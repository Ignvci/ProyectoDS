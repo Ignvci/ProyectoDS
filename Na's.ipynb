{
 "cells": [
  {
   "cell_type": "code",
   "execution_count": 1,
   "metadata": {},
   "outputs": [],
   "source": [
    "import numpy as np\n",
    "import pandas as pd\n",
    "import matplotlib.pyplot as plt\n",
    "import matplotlib.ticker as ticker\n",
    "import matplotlib.style as style\n",
    "import seaborn as sns\n",
    "import re\n",
    "\n",
    "# Opciones para evitar notación científica en NumPy y Pandas\n",
    "np.set_printoptions(suppress=True)\n",
    "pd.set_option('display.float_format', lambda x: f\"{x:0.5f}\")\n",
    "\n",
    "# Opciones de gráficos\n",
    "plt.style.use(\"ggplot\")\n",
    "%config InlineBackend.figure_format = \"retina\"\n",
    "\n",
    "# Configura el estilo de gráfico\n",
    "style.use('ggplot')\n",
    "plt.rcParams['axes.facecolor'] = 'white'\n",
    "plt.rcParams['axes.edgecolor'] = 'white'\n",
    "plt.rcParams['axes.grid'] = True\n",
    "plt.rcParams['grid.color'] = '#e6e6e6'\n",
    "plt.rcParams['grid.linestyle'] = '-'\n",
    "plt.rcParams['grid.linewidth'] = 0.5\n",
    "plt.rcParams['axes.titlepad'] = 20\n",
    "plt.rcParams['axes.labelpad'] = 12\n",
    "plt.rcParams['figure.facecolor'] = 'white'\n",
    "plt.rcParams['font.family'] = 'sans-serif'\n",
    "plt.rcParams['font.sans-serif'] = ['Arial']\n",
    "plt.rcParams['text.color'] = '#333333'\n",
    "plt.rcParams['xtick.color'] = '#333333'\n",
    "plt.rcParams['ytick.color'] = '#333333'\n",
    "plt.rcParams['xtick.major.size'] = 0\n",
    "plt.rcParams['ytick.major.size'] = 0\n",
    "plt.rcParams['xtick.minor.size'] = 0\n",
    "plt.rcParams['ytick.minor.size'] = 0"
   ]
  },
  {
   "cell_type": "code",
   "execution_count": 2,
   "metadata": {},
   "outputs": [],
   "source": [
    "data = pd.read_excel(\"Export/data.xlsx\")"
   ]
  },
  {
   "cell_type": "code",
   "execution_count": 3,
   "metadata": {},
   "outputs": [
    {
     "data": {
      "text/plain": [
       "municipal_y_servicios_locales         7358\n",
       "particular_subvencionado_             7358\n",
       "particular_pagado                     7358\n",
       "c_administración_delegada             7358\n",
       "promedio_psu_de_matrícula_1er_año    19046\n",
       "promedio_nem_de_matrícula             9355\n",
       "nombre_institución_y                  6662\n",
       "código_institución__y                 6662\n",
       "acreditación_institucional            6662\n",
       "acreditación_carrera                  6662\n",
       "dtype: int64"
      ]
     },
     "execution_count": 3,
     "metadata": {},
     "output_type": "execute_result"
    }
   ],
   "source": [
    "data.isna().sum()[data.isna().sum()>0]"
   ]
  }
 ],
 "metadata": {
  "kernelspec": {
   "display_name": "default",
   "language": "python",
   "name": "python3"
  },
  "language_info": {
   "codemirror_mode": {
    "name": "ipython",
    "version": 3
   },
   "file_extension": ".py",
   "mimetype": "text/x-python",
   "name": "python",
   "nbconvert_exporter": "python",
   "pygments_lexer": "ipython3",
   "version": "3.9.12"
  },
  "orig_nbformat": 4
 },
 "nbformat": 4,
 "nbformat_minor": 2
}

{
  "cells": [
    {
      "attachments": {},
      "cell_type": "markdown",
      "metadata": {
        "id": "h88i9Gl7Ulbp"
      },
      "source": [
        "# Proyecto de Ciencia de Datos - Universidades de Chile\n",
        "\n",
        "`Item I:` Limpieza de datos.\n",
        "\n",
        "`Item II:` Estadísticos descriptivos.\n",
        "\n",
        "`Item III:` Tabla de contingencia.\n",
        "\n",
        "`Item IV:` Uso Interpretación de gráficos.\n",
        "\n",
        "`Item V:` Estructura del informe, ortografía, redacción y calidad gráfica.\n"
      ]
    },
    {
      "cell_type": "code",
      "execution_count": 1,
      "metadata": {
        "id": "piUsIYk_TVaS"
      },
      "outputs": [],
      "source": [
        "import numpy as np\n",
        "import pandas as pd\n",
        "import matplotlib.pyplot as plt\n",
        "import seaborn as sns\n",
        "\n",
        "# Opciones para evitar notación científica en NumPy y Pandas\n",
        "np.set_printoptions(suppress=True)\n",
        "pd.set_option('display.float_format', lambda x: f\"{x:0.5f}\")\n",
        "\n",
        "# Opciones de gráficos\n",
        "plt.style.use(\"ggplot\")\n",
        "%config InlineBackend.figure_format = \"retina\""
      ]
    },
    {
      "cell_type": "code",
      "execution_count": 2,
      "metadata": {
        "colab": {
          "base_uri": "https://localhost:8080/",
          "height": 363
        },
        "id": "utltbm4HUqjk",
        "outputId": "08963535-5c64-4a74-df95-303f82bbe6bd"
      },
      "outputs": [
        {
          "name": "stderr",
          "output_type": "stream",
          "text": [
            "C:\\Users\\aigna\\AppData\\Local\\Temp\\ipykernel_24328\\2471375057.py:1: DtypeWarning: Columns (27) have mixed types. Specify dtype option on import or set low_memory=False.\n",
            "  matriculados = pd.read_csv('data/OFICIAL_WEB_PROCESO_MAT_2007_AL_2022_24_06_2022_E.csv', encoding='latin1',sep=';')\n"
          ]
        }
      ],
      "source": [
        "matriculados = pd.read_csv('data/OFICIAL_WEB_PROCESO_MAT_2007_AL_2022_24_06_2022_E.csv', encoding='latin1',sep=';')"
      ]
    },
    {
      "cell_type": "code",
      "execution_count": 3,
      "metadata": {
        "colab": {
          "base_uri": "https://localhost:8080/",
          "height": 456
        },
        "id": "Jv324Y36XtIx",
        "outputId": "563c6319-fdab-4831-ba55-feb34fa325bf"
      },
      "outputs": [
        {
          "name": "stdout",
          "output_type": "stream",
          "text": [
            "Base de Datos de Matriculados:\n"
          ]
        },
        {
          "data": {
            "text/html": [
              "<div>\n",
              "<style scoped>\n",
              "    .dataframe tbody tr th:only-of-type {\n",
              "        vertical-align: middle;\n",
              "    }\n",
              "\n",
              "    .dataframe tbody tr th {\n",
              "        vertical-align: top;\n",
              "    }\n",
              "\n",
              "    .dataframe thead th {\n",
              "        text-align: right;\n",
              "    }\n",
              "</style>\n",
              "<table border=\"1\" class=\"dataframe\">\n",
              "  <thead>\n",
              "    <tr style=\"text-align: right;\">\n",
              "      <th></th>\n",
              "      <th>AÑO</th>\n",
              "      <th>TOTAL MATRICULADOS</th>\n",
              "      <th>MATRICULADOS MUJERES POR PROGRAMA</th>\n",
              "      <th>MATRICULADOS HOMBRES POR PROGRAMA</th>\n",
              "      <th>TOTAL MATRICULADOS PRIMER AÑO</th>\n",
              "      <th>MATRICULADOS MUJERES PRIMER AÑO</th>\n",
              "      <th>MATRICULADOS HOMBRES PRIMER AÑO</th>\n",
              "      <th>CLASIFICACIÓN INSTITUCIÓN NIVEL 1</th>\n",
              "      <th>CLASIFICACIÓN INSTITUCIÓN NIVEL 2</th>\n",
              "      <th>CLASIFICACIÓN INSTITUCIÓN NIVEL 3</th>\n",
              "      <th>...</th>\n",
              "      <th>TES PARTICULAR SUBVENCIONADO</th>\n",
              "      <th>TES PARTICULAR PAGADO</th>\n",
              "      <th>TES CORP. DE ADMINISTRACIÓN DELEGADA</th>\n",
              "      <th>TES SERVICIO LOCAL EDUCACION</th>\n",
              "      <th>TOTAL TES</th>\n",
              "      <th>% COBERTURA TES</th>\n",
              "      <th>TIPO ESTABLECIMIENTO HC</th>\n",
              "      <th>TIPO ESTABLECIMIENTO TP</th>\n",
              "      <th>CLAS_EST ADULTO</th>\n",
              "      <th>CLAS_EST JOVEN</th>\n",
              "    </tr>\n",
              "  </thead>\n",
              "  <tbody>\n",
              "    <tr>\n",
              "      <th>0</th>\n",
              "      <td>MAT_2022</td>\n",
              "      <td>2</td>\n",
              "      <td>2.00000</td>\n",
              "      <td>NaN</td>\n",
              "      <td>NaN</td>\n",
              "      <td>NaN</td>\n",
              "      <td>NaN</td>\n",
              "      <td>Institutos Profesionales</td>\n",
              "      <td>Institutos Profesionales</td>\n",
              "      <td>Institutos Profesionales</td>\n",
              "      <td>...</td>\n",
              "      <td>2.00000</td>\n",
              "      <td>NaN</td>\n",
              "      <td>NaN</td>\n",
              "      <td>NaN</td>\n",
              "      <td>2</td>\n",
              "      <td>100,0%</td>\n",
              "      <td>2.00000</td>\n",
              "      <td>NaN</td>\n",
              "      <td>NaN</td>\n",
              "      <td>2.00000</td>\n",
              "    </tr>\n",
              "    <tr>\n",
              "      <th>1</th>\n",
              "      <td>MAT_2022</td>\n",
              "      <td>10</td>\n",
              "      <td>8.00000</td>\n",
              "      <td>2.00000</td>\n",
              "      <td>NaN</td>\n",
              "      <td>NaN</td>\n",
              "      <td>NaN</td>\n",
              "      <td>Institutos Profesionales</td>\n",
              "      <td>Institutos Profesionales</td>\n",
              "      <td>Institutos Profesionales</td>\n",
              "      <td>...</td>\n",
              "      <td>3.00000</td>\n",
              "      <td>2.00000</td>\n",
              "      <td>NaN</td>\n",
              "      <td>NaN</td>\n",
              "      <td>9</td>\n",
              "      <td>90,0%</td>\n",
              "      <td>4.00000</td>\n",
              "      <td>5.00000</td>\n",
              "      <td>2.00000</td>\n",
              "      <td>7.00000</td>\n",
              "    </tr>\n",
              "    <tr>\n",
              "      <th>2</th>\n",
              "      <td>MAT_2022</td>\n",
              "      <td>34</td>\n",
              "      <td>NaN</td>\n",
              "      <td>34.00000</td>\n",
              "      <td>NaN</td>\n",
              "      <td>NaN</td>\n",
              "      <td>NaN</td>\n",
              "      <td>Institutos Profesionales</td>\n",
              "      <td>Institutos Profesionales</td>\n",
              "      <td>Institutos Profesionales</td>\n",
              "      <td>...</td>\n",
              "      <td>14.00000</td>\n",
              "      <td>3.00000</td>\n",
              "      <td>NaN</td>\n",
              "      <td>NaN</td>\n",
              "      <td>26</td>\n",
              "      <td>76,5%</td>\n",
              "      <td>17.00000</td>\n",
              "      <td>9.00000</td>\n",
              "      <td>4.00000</td>\n",
              "      <td>22.00000</td>\n",
              "    </tr>\n",
              "    <tr>\n",
              "      <th>3</th>\n",
              "      <td>MAT_2022</td>\n",
              "      <td>10</td>\n",
              "      <td>NaN</td>\n",
              "      <td>10.00000</td>\n",
              "      <td>NaN</td>\n",
              "      <td>NaN</td>\n",
              "      <td>NaN</td>\n",
              "      <td>Institutos Profesionales</td>\n",
              "      <td>Institutos Profesionales</td>\n",
              "      <td>Institutos Profesionales</td>\n",
              "      <td>...</td>\n",
              "      <td>4.00000</td>\n",
              "      <td>NaN</td>\n",
              "      <td>NaN</td>\n",
              "      <td>NaN</td>\n",
              "      <td>10</td>\n",
              "      <td>100,0%</td>\n",
              "      <td>6.00000</td>\n",
              "      <td>4.00000</td>\n",
              "      <td>1.00000</td>\n",
              "      <td>9.00000</td>\n",
              "    </tr>\n",
              "    <tr>\n",
              "      <th>4</th>\n",
              "      <td>MAT_2022</td>\n",
              "      <td>76</td>\n",
              "      <td>4.00000</td>\n",
              "      <td>72.00000</td>\n",
              "      <td>NaN</td>\n",
              "      <td>NaN</td>\n",
              "      <td>NaN</td>\n",
              "      <td>Institutos Profesionales</td>\n",
              "      <td>Institutos Profesionales</td>\n",
              "      <td>Institutos Profesionales</td>\n",
              "      <td>...</td>\n",
              "      <td>29.00000</td>\n",
              "      <td>6.00000</td>\n",
              "      <td>4.00000</td>\n",
              "      <td>NaN</td>\n",
              "      <td>71</td>\n",
              "      <td>93,4%</td>\n",
              "      <td>30.00000</td>\n",
              "      <td>41.00000</td>\n",
              "      <td>4.00000</td>\n",
              "      <td>67.00000</td>\n",
              "    </tr>\n",
              "  </tbody>\n",
              "</table>\n",
              "<p>5 rows × 56 columns</p>\n",
              "</div>"
            ],
            "text/plain": [
              "        AÑO  TOTAL MATRICULADOS  MATRICULADOS MUJERES POR PROGRAMA  \\\n",
              "0  MAT_2022                   2                            2.00000   \n",
              "1  MAT_2022                  10                            8.00000   \n",
              "2  MAT_2022                  34                                NaN   \n",
              "3  MAT_2022                  10                                NaN   \n",
              "4  MAT_2022                  76                            4.00000   \n",
              "\n",
              "   MATRICULADOS HOMBRES POR PROGRAMA  TOTAL MATRICULADOS PRIMER AÑO  \\\n",
              "0                                NaN                            NaN   \n",
              "1                            2.00000                            NaN   \n",
              "2                           34.00000                            NaN   \n",
              "3                           10.00000                            NaN   \n",
              "4                           72.00000                            NaN   \n",
              "\n",
              "   MATRICULADOS MUJERES PRIMER AÑO  MATRICULADOS HOMBRES PRIMER AÑO  \\\n",
              "0                              NaN                              NaN   \n",
              "1                              NaN                              NaN   \n",
              "2                              NaN                              NaN   \n",
              "3                              NaN                              NaN   \n",
              "4                              NaN                              NaN   \n",
              "\n",
              "  CLASIFICACIÓN INSTITUCIÓN NIVEL 1 CLASIFICACIÓN INSTITUCIÓN NIVEL 2  \\\n",
              "0          Institutos Profesionales          Institutos Profesionales   \n",
              "1          Institutos Profesionales          Institutos Profesionales   \n",
              "2          Institutos Profesionales          Institutos Profesionales   \n",
              "3          Institutos Profesionales          Institutos Profesionales   \n",
              "4          Institutos Profesionales          Institutos Profesionales   \n",
              "\n",
              "  CLASIFICACIÓN INSTITUCIÓN NIVEL 3  ...  TES PARTICULAR SUBVENCIONADO  \\\n",
              "0          Institutos Profesionales  ...                       2.00000   \n",
              "1          Institutos Profesionales  ...                       3.00000   \n",
              "2          Institutos Profesionales  ...                      14.00000   \n",
              "3          Institutos Profesionales  ...                       4.00000   \n",
              "4          Institutos Profesionales  ...                      29.00000   \n",
              "\n",
              "  TES PARTICULAR PAGADO TES CORP. DE ADMINISTRACIÓN DELEGADA  \\\n",
              "0                   NaN                                  NaN   \n",
              "1               2.00000                                  NaN   \n",
              "2               3.00000                                  NaN   \n",
              "3                   NaN                                  NaN   \n",
              "4               6.00000                              4.00000   \n",
              "\n",
              "  TES SERVICIO LOCAL EDUCACION TOTAL TES % COBERTURA TES  \\\n",
              "0                          NaN         2          100,0%   \n",
              "1                          NaN         9           90,0%   \n",
              "2                          NaN        26           76,5%   \n",
              "3                          NaN        10          100,0%   \n",
              "4                          NaN        71           93,4%   \n",
              "\n",
              "  TIPO ESTABLECIMIENTO HC TIPO ESTABLECIMIENTO TP CLAS_EST ADULTO  \\\n",
              "0                 2.00000                     NaN             NaN   \n",
              "1                 4.00000                 5.00000         2.00000   \n",
              "2                17.00000                 9.00000         4.00000   \n",
              "3                 6.00000                 4.00000         1.00000   \n",
              "4                30.00000                41.00000         4.00000   \n",
              "\n",
              "  CLAS_EST JOVEN  \n",
              "0        2.00000  \n",
              "1        7.00000  \n",
              "2       22.00000  \n",
              "3        9.00000  \n",
              "4       67.00000  \n",
              "\n",
              "[5 rows x 56 columns]"
            ]
          },
          "metadata": {},
          "output_type": "display_data"
        }
      ],
      "source": [
        "print(\"Base de Datos de Matriculados:\")\n",
        "display(matriculados.head())"
      ]
    },
    {
      "cell_type": "code",
      "execution_count": 4,
      "metadata": {
        "colab": {
          "base_uri": "https://localhost:8080/",
          "height": 520
        },
        "id": "-dBN7LayX6fM",
        "outputId": "d6b2085a-726b-4858-d10d-39018b5c27e0"
      },
      "outputs": [
        {
          "name": "stdout",
          "output_type": "stream",
          "text": [
            "Identificación de Datos Faltantes\n"
          ]
        },
        {
          "data": {
            "text/plain": [
              "MATRICULADOS MUJERES POR PROGRAMA        16242\n",
              "MATRICULADOS HOMBRES POR PROGRAMA        17063\n",
              "TOTAL MATRICULADOS PRIMER AÑO            64261\n",
              "MATRICULADOS MUJERES PRIMER AÑO          75937\n",
              "MATRICULADOS HOMBRES PRIMER AÑO          76222\n",
              "MODALIDAD                                42300\n",
              "DURACIÓN ESTUDIO CARRERA                   106\n",
              "DURACIÓN TOTAL DE CARRERA                  106\n",
              "RANGO DE EDAD 15 A 19 AÑOS               99919\n",
              "RANGO DE EDAD 20 A 24 AÑOS               41284\n",
              "RANGO DE EDAD 25 A 29 AÑOS               21579\n",
              "RANGO DE EDAD 30 A 34 AÑOS               44593\n",
              "RANGO DE EDAD 35 A 39 AÑOS               82881\n",
              "RANGO DE EDAD 40 Y MÁS AÑOS              93610\n",
              "RANGO DE EDAD SIN INFORMACIÓN           213170\n",
              " PROMEDIO EDAD CARRERA                      39\n",
              " PROMEDIO EDAD MUJER                     16287\n",
              " PROMEDIO EDAD HOMBRE                    17113\n",
              "TES MUNICIPAL                            32208\n",
              "TES PARTICULAR SUBVENCIONADO             28069\n",
              "TES PARTICULAR PAGADO                   103756\n",
              "TES CORP. DE ADMINISTRACIÓN DELEGADA    113934\n",
              "TES SERVICIO LOCAL EDUCACION            208336\n",
              "TIPO ESTABLECIMIENTO HC                  20156\n",
              "TIPO ESTABLECIMIENTO TP                  42829\n",
              "CLAS_EST ADULTO                          76329\n",
              "CLAS_EST JOVEN                           15555\n",
              "dtype: int64"
            ]
          },
          "metadata": {},
          "output_type": "display_data"
        }
      ],
      "source": [
        "print(\"Identificación de Datos Faltantes\")\n",
        "display(matriculados.isna().sum()[matriculados.isna().sum()>0])"
      ]
    },
    {
      "cell_type": "code",
      "execution_count": 50,
      "metadata": {},
      "outputs": [
        {
          "data": {
            "text/html": [
              "<div>\n",
              "<style scoped>\n",
              "    .dataframe tbody tr th:only-of-type {\n",
              "        vertical-align: middle;\n",
              "    }\n",
              "\n",
              "    .dataframe tbody tr th {\n",
              "        vertical-align: top;\n",
              "    }\n",
              "\n",
              "    .dataframe thead th {\n",
              "        text-align: right;\n",
              "    }\n",
              "</style>\n",
              "<table border=\"1\" class=\"dataframe\">\n",
              "  <thead>\n",
              "    <tr style=\"text-align: right;\">\n",
              "      <th></th>\n",
              "      <th>index</th>\n",
              "      <th>0</th>\n",
              "    </tr>\n",
              "  </thead>\n",
              "  <tbody>\n",
              "    <tr>\n",
              "      <th>0</th>\n",
              "      <td>MATRICULADOS MUJERES POR PROGRAMA</td>\n",
              "      <td>16242</td>\n",
              "    </tr>\n",
              "    <tr>\n",
              "      <th>1</th>\n",
              "      <td>MATRICULADOS HOMBRES POR PROGRAMA</td>\n",
              "      <td>17063</td>\n",
              "    </tr>\n",
              "    <tr>\n",
              "      <th>2</th>\n",
              "      <td>TOTAL MATRICULADOS PRIMER AÑO</td>\n",
              "      <td>64261</td>\n",
              "    </tr>\n",
              "    <tr>\n",
              "      <th>3</th>\n",
              "      <td>MATRICULADOS MUJERES PRIMER AÑO</td>\n",
              "      <td>75937</td>\n",
              "    </tr>\n",
              "    <tr>\n",
              "      <th>4</th>\n",
              "      <td>MATRICULADOS HOMBRES PRIMER AÑO</td>\n",
              "      <td>76222</td>\n",
              "    </tr>\n",
              "    <tr>\n",
              "      <th>5</th>\n",
              "      <td>MODALIDAD</td>\n",
              "      <td>42300</td>\n",
              "    </tr>\n",
              "    <tr>\n",
              "      <th>6</th>\n",
              "      <td>DURACIÓN ESTUDIO CARRERA</td>\n",
              "      <td>106</td>\n",
              "    </tr>\n",
              "    <tr>\n",
              "      <th>7</th>\n",
              "      <td>DURACIÓN TOTAL DE CARRERA</td>\n",
              "      <td>106</td>\n",
              "    </tr>\n",
              "    <tr>\n",
              "      <th>8</th>\n",
              "      <td>RANGO DE EDAD 15 A 19 AÑOS</td>\n",
              "      <td>99919</td>\n",
              "    </tr>\n",
              "    <tr>\n",
              "      <th>9</th>\n",
              "      <td>RANGO DE EDAD 20 A 24 AÑOS</td>\n",
              "      <td>41284</td>\n",
              "    </tr>\n",
              "    <tr>\n",
              "      <th>10</th>\n",
              "      <td>RANGO DE EDAD 25 A 29 AÑOS</td>\n",
              "      <td>21579</td>\n",
              "    </tr>\n",
              "    <tr>\n",
              "      <th>11</th>\n",
              "      <td>RANGO DE EDAD 30 A 34 AÑOS</td>\n",
              "      <td>44593</td>\n",
              "    </tr>\n",
              "    <tr>\n",
              "      <th>12</th>\n",
              "      <td>RANGO DE EDAD 35 A 39 AÑOS</td>\n",
              "      <td>82881</td>\n",
              "    </tr>\n",
              "    <tr>\n",
              "      <th>13</th>\n",
              "      <td>RANGO DE EDAD 40 Y MÁS AÑOS</td>\n",
              "      <td>93610</td>\n",
              "    </tr>\n",
              "    <tr>\n",
              "      <th>14</th>\n",
              "      <td>RANGO DE EDAD SIN INFORMACIÓN</td>\n",
              "      <td>213170</td>\n",
              "    </tr>\n",
              "    <tr>\n",
              "      <th>15</th>\n",
              "      <td>PROMEDIO EDAD CARRERA</td>\n",
              "      <td>39</td>\n",
              "    </tr>\n",
              "    <tr>\n",
              "      <th>16</th>\n",
              "      <td>PROMEDIO EDAD MUJER</td>\n",
              "      <td>16287</td>\n",
              "    </tr>\n",
              "    <tr>\n",
              "      <th>17</th>\n",
              "      <td>PROMEDIO EDAD HOMBRE</td>\n",
              "      <td>17113</td>\n",
              "    </tr>\n",
              "    <tr>\n",
              "      <th>18</th>\n",
              "      <td>TES MUNICIPAL</td>\n",
              "      <td>32208</td>\n",
              "    </tr>\n",
              "    <tr>\n",
              "      <th>19</th>\n",
              "      <td>TES PARTICULAR SUBVENCIONADO</td>\n",
              "      <td>28069</td>\n",
              "    </tr>\n",
              "    <tr>\n",
              "      <th>20</th>\n",
              "      <td>TES PARTICULAR PAGADO</td>\n",
              "      <td>103756</td>\n",
              "    </tr>\n",
              "    <tr>\n",
              "      <th>21</th>\n",
              "      <td>TES CORP. DE ADMINISTRACIÓN DELEGADA</td>\n",
              "      <td>113934</td>\n",
              "    </tr>\n",
              "    <tr>\n",
              "      <th>22</th>\n",
              "      <td>TES SERVICIO LOCAL EDUCACION</td>\n",
              "      <td>208336</td>\n",
              "    </tr>\n",
              "    <tr>\n",
              "      <th>23</th>\n",
              "      <td>TIPO ESTABLECIMIENTO HC</td>\n",
              "      <td>20156</td>\n",
              "    </tr>\n",
              "    <tr>\n",
              "      <th>24</th>\n",
              "      <td>TIPO ESTABLECIMIENTO TP</td>\n",
              "      <td>42829</td>\n",
              "    </tr>\n",
              "    <tr>\n",
              "      <th>25</th>\n",
              "      <td>CLAS_EST ADULTO</td>\n",
              "      <td>76329</td>\n",
              "    </tr>\n",
              "    <tr>\n",
              "      <th>26</th>\n",
              "      <td>CLAS_EST JOVEN</td>\n",
              "      <td>15555</td>\n",
              "    </tr>\n",
              "  </tbody>\n",
              "</table>\n",
              "</div>"
            ],
            "text/plain": [
              "                                   index       0\n",
              "0      MATRICULADOS MUJERES POR PROGRAMA   16242\n",
              "1      MATRICULADOS HOMBRES POR PROGRAMA   17063\n",
              "2          TOTAL MATRICULADOS PRIMER AÑO   64261\n",
              "3        MATRICULADOS MUJERES PRIMER AÑO   75937\n",
              "4        MATRICULADOS HOMBRES PRIMER AÑO   76222\n",
              "5                              MODALIDAD   42300\n",
              "6               DURACIÓN ESTUDIO CARRERA     106\n",
              "7              DURACIÓN TOTAL DE CARRERA     106\n",
              "8             RANGO DE EDAD 15 A 19 AÑOS   99919\n",
              "9             RANGO DE EDAD 20 A 24 AÑOS   41284\n",
              "10            RANGO DE EDAD 25 A 29 AÑOS   21579\n",
              "11            RANGO DE EDAD 30 A 34 AÑOS   44593\n",
              "12            RANGO DE EDAD 35 A 39 AÑOS   82881\n",
              "13           RANGO DE EDAD 40 Y MÁS AÑOS   93610\n",
              "14         RANGO DE EDAD SIN INFORMACIÓN  213170\n",
              "15                PROMEDIO EDAD CARRERA       39\n",
              "16                  PROMEDIO EDAD MUJER    16287\n",
              "17                 PROMEDIO EDAD HOMBRE    17113\n",
              "18                         TES MUNICIPAL   32208\n",
              "19          TES PARTICULAR SUBVENCIONADO   28069\n",
              "20                 TES PARTICULAR PAGADO  103756\n",
              "21  TES CORP. DE ADMINISTRACIÓN DELEGADA  113934\n",
              "22          TES SERVICIO LOCAL EDUCACION  208336\n",
              "23               TIPO ESTABLECIMIENTO HC   20156\n",
              "24               TIPO ESTABLECIMIENTO TP   42829\n",
              "25                       CLAS_EST ADULTO   76329\n",
              "26                        CLAS_EST JOVEN   15555"
            ]
          },
          "execution_count": 50,
          "metadata": {},
          "output_type": "execute_result"
        }
      ],
      "source": [
        "matriculados.isna().sum()[matriculados.isna().sum()>0].reset_index()"
      ]
    },
    {
      "attachments": {},
      "cell_type": "markdown",
      "metadata": {
        "id": "FLokvElIliH0"
      },
      "source": [
        "## Análisis 1: Verificación de columnas Matriculadas Mujeres y Hombres por programa.\n",
        "\n",
        "Se verificará si las columnas `MATRICULADOS MUJERES POR PROGRAMA` y `MATRICULADOS HOMBRES POR PROGRAMA` con la columna de `TOTAL MATRICULADOS`.\n",
        "\n"
      ]
    },
    {
      "cell_type": "code",
      "execution_count": 5,
      "metadata": {
        "colab": {
          "base_uri": "https://localhost:8080/",
          "height": 121
        },
        "id": "LpTcetdubGu1",
        "outputId": "79438de7-3e08-4c44-a337-d7839380f22b"
      },
      "outputs": [
        {
          "name": "stdout",
          "output_type": "stream",
          "text": [
            "Total Matriculados: \n"
          ]
        },
        {
          "data": {
            "text/plain": [
              "18146411"
            ]
          },
          "metadata": {},
          "output_type": "display_data"
        },
        {
          "name": "stdout",
          "output_type": "stream",
          "text": [
            "Total Matriculadas Mujeres: \n"
          ]
        },
        {
          "data": {
            "text/plain": [
              "9481945"
            ]
          },
          "metadata": {},
          "output_type": "display_data"
        },
        {
          "name": "stdout",
          "output_type": "stream",
          "text": [
            "Total Matriculados Hombres: \n"
          ]
        },
        {
          "data": {
            "text/plain": [
              "8664466"
            ]
          },
          "metadata": {},
          "output_type": "display_data"
        }
      ],
      "source": [
        "print(\"Total Matriculados: \")\n",
        "display(matriculados['TOTAL MATRICULADOS'].sum().astype(int))\n",
        "print(\"Total Matriculadas Mujeres: \")\n",
        "display(matriculados['MATRICULADOS MUJERES POR PROGRAMA'].sum().astype(int))\n",
        "print(\"Total Matriculados Hombres: \")\n",
        "display(matriculados['MATRICULADOS HOMBRES POR PROGRAMA'].sum().astype(int))\n",
        "\n"
      ]
    },
    {
      "cell_type": "code",
      "execution_count": 6,
      "metadata": {
        "colab": {
          "base_uri": "https://localhost:8080/"
        },
        "id": "JK3R-h6SbQCq",
        "outputId": "961fd9fc-e02a-413c-b94e-dd0ab8d99854"
      },
      "outputs": [
        {
          "name": "stdout",
          "output_type": "stream",
          "text": [
            "La sumatoria entre el total de matriculadas mujeres y hombres es:\n",
            "18146411\n"
          ]
        }
      ],
      "source": [
        "print(\"La sumatoria entre el total de matriculadas mujeres y hombres es:\")\n",
        "print(matriculados['MATRICULADOS MUJERES POR PROGRAMA'].sum().astype(int) + matriculados['MATRICULADOS HOMBRES POR PROGRAMA'].sum().astype(int))"
      ]
    },
    {
      "cell_type": "code",
      "execution_count": 7,
      "metadata": {
        "colab": {
          "base_uri": "https://localhost:8080/"
        },
        "id": "aMWNL8LdlODc",
        "outputId": "79bf1b70-9cf9-4ee1-fbff-1bbfae801bd1"
      },
      "outputs": [
        {
          "name": "stdout",
          "output_type": "stream",
          "text": [
            "Se verifica a través de una igualdad si la sumatoria total corresponde al total de matriculados:\n",
            "True\n"
          ]
        }
      ],
      "source": [
        "print(\"Se verifica a través de una igualdad si la sumatoria total corresponde al total de matriculados:\")\n",
        "print(matriculados['MATRICULADOS MUJERES POR PROGRAMA'].sum().astype(int) + matriculados['MATRICULADOS HOMBRES POR PROGRAMA'].sum().astype(int) == matriculados['TOTAL MATRICULADOS'].sum().astype(int))"
      ]
    },
    {
      "attachments": {},
      "cell_type": "markdown",
      "metadata": {
        "id": "JC_7fgrCm-ve"
      },
      "source": [
        "### Conclusión 1\n",
        "\n",
        "Se verifica que la sumatoria total de Matriculados entre mujeres y hombres resulta en la igualdad del total de matriculados de la base de datos, por ende los datos de las columnas `MATRICULADOS MUJERES POR PROGRAMA` y `MATRICULADOS HOMBRES POR PROGRAMA` se pueden reemplazar por 0. para eliminar de la base valores faltantes."
      ]
    },
    {
      "attachments": {},
      "cell_type": "markdown",
      "metadata": {
        "id": "Lq123fmQnqeQ"
      },
      "source": [
        "## Analisis 2\n",
        "\n",
        "Se analizan las columnas: `TOTAL MATRICULADOS PRIMER AÑO` con `MATRICULADOS MUJERES PRIMER AÑO` Y `MATRICULADOS HOMBRES PRIMER AÑO`"
      ]
    },
    {
      "cell_type": "code",
      "execution_count": 8,
      "metadata": {
        "colab": {
          "base_uri": "https://localhost:8080/"
        },
        "id": "pwMfN7rBbUei",
        "outputId": "c4eea216-dbea-43c2-f124-694eba4bc388"
      },
      "outputs": [
        {
          "name": "stdout",
          "output_type": "stream",
          "text": [
            "Total Matriculados de primer año:\n",
            "5441704\n",
            "Total Matriculadas Mujeres de primer año:\n",
            "2825386\n",
            "Total Matriculados Hombres de primer año\n",
            "2616318\n"
          ]
        }
      ],
      "source": [
        "print(\"Total Matriculados de primer año:\")\n",
        "print(matriculados[~matriculados['TOTAL MATRICULADOS PRIMER AÑO'].isna()]['TOTAL MATRICULADOS PRIMER AÑO'].sum().astype(int))\n",
        "print(\"Total Matriculadas Mujeres de primer año:\")\n",
        "print(matriculados[~matriculados['MATRICULADOS MUJERES PRIMER AÑO'].isna()]['MATRICULADOS MUJERES PRIMER AÑO'].sum().astype(int))\n",
        "print(\"Total Matriculados Hombres de primer año\")\n",
        "print(matriculados[~matriculados['MATRICULADOS HOMBRES PRIMER AÑO'].isna()]['MATRICULADOS HOMBRES PRIMER AÑO'].sum().astype(int))\n"
      ]
    },
    {
      "cell_type": "code",
      "execution_count": 9,
      "metadata": {},
      "outputs": [
        {
          "name": "stdout",
          "output_type": "stream",
          "text": [
            "Se establecen dos condiciones para verificar la integridad de los datos:\n",
            "1.- Se filtra por todos los matriculados de primer año hombres como faltantes\n",
            "2.- Se filtra por la columna total matriculados primer año distinta a valor faltante\n",
            "Lo que nos permitirá verificar si el valor faltante de hombres significa que todas las matriculas de primer año para estas condiciones son de mujeres.\n",
            "Se establecen las condiciones y se seleccionan las columnas de interes\n",
            "Se crea la columna dif, que es la diferencia entre el total y la columnas de mujeres\n",
            "y el resultado es dif: \n"
          ]
        },
        {
          "data": {
            "text/plain": [
              "0.0"
            ]
          },
          "metadata": {},
          "output_type": "display_data"
        }
      ],
      "source": [
        "print(\"Se establecen dos condiciones para verificar la integridad de los datos:\")\n",
        "print(\"1.- Se filtra por todos los matriculados de primer año hombres como faltantes\")\n",
        "print(\"2.- Se filtra por la columna total matriculados primer año distinta a valor faltante\")\n",
        "print(\"Lo que nos permitirá verificar si el valor faltante de hombres significa que todas las matriculas de primer año para estas condiciones son de mujeres.\")\n",
        "data_hombres_PA = matriculados[(matriculados['MATRICULADOS HOMBRES PRIMER AÑO'].isna()) & (~matriculados['TOTAL MATRICULADOS PRIMER AÑO'].isna())][['TOTAL MATRICULADOS PRIMER AÑO','MATRICULADOS MUJERES PRIMER AÑO']]\n",
        "data_hombres_PA['dif'] = data_hombres_PA['TOTAL MATRICULADOS PRIMER AÑO'] - data_hombres_PA['MATRICULADOS MUJERES PRIMER AÑO']\n",
        "print(\"Se establecen las condiciones y se seleccionan las columnas de interes\")\n",
        "print(\"Se crea la columna dif, que es la diferencia entre el total y la columnas de mujeres\")\n",
        "print(\"y el resultado es dif: \")\n",
        "display(data_hombres_PA['dif'].sum())"
      ]
    },
    {
      "attachments": {},
      "cell_type": "markdown",
      "metadata": {},
      "source": [
        "### Conclusión 2.\n",
        "\n",
        "Se verifica lo siguiente, en los casos en que la columna de hombres es `NA` la columna de total matriculados primer año y matriculados de mujeres en primer año son idénticas.\n",
        "\n",
        "Se verifican si las sumatorias de matriculados mujeres y hombres es el mismo que el total de matriculados (De primer año)\n",
        "\n",
        "Por último se asume que aquellas columnas en donde las 3 columnas son valores faltantes es porque el programa se dejo de impartir o no tiene matricula vigente.\n"
      ]
    },
    {
      "attachments": {},
      "cell_type": "markdown",
      "metadata": {},
      "source": [
        "## Análisis 3:\n",
        "\n",
        "Se verificarán los valores faltantes de la columna ``modalidad``"
      ]
    },
    {
      "cell_type": "code",
      "execution_count": 10,
      "metadata": {},
      "outputs": [
        {
          "name": "stdout",
          "output_type": "stream",
          "text": [
            "Columna Modalidad:\n"
          ]
        },
        {
          "data": {
            "text/plain": [
              "Presencial        161458\n",
              "No Presencial       6229\n",
              "Semipresencial      6166\n",
              "Name: MODALIDAD, dtype: int64"
            ]
          },
          "metadata": {},
          "output_type": "display_data"
        }
      ],
      "source": [
        "print(\"Columna Modalidad:\")\n",
        "display(matriculados['MODALIDAD'].value_counts())"
      ]
    },
    {
      "cell_type": "code",
      "execution_count": 11,
      "metadata": {},
      "outputs": [
        {
          "name": "stdout",
          "output_type": "stream",
          "text": [
            "Se filtra base de datos en donde MODALIDAD sea un valor faltante:\n"
          ]
        },
        {
          "data": {
            "text/html": [
              "<div>\n",
              "<style scoped>\n",
              "    .dataframe tbody tr th:only-of-type {\n",
              "        vertical-align: middle;\n",
              "    }\n",
              "\n",
              "    .dataframe tbody tr th {\n",
              "        vertical-align: top;\n",
              "    }\n",
              "\n",
              "    .dataframe thead th {\n",
              "        text-align: right;\n",
              "    }\n",
              "</style>\n",
              "<table border=\"1\" class=\"dataframe\">\n",
              "  <thead>\n",
              "    <tr style=\"text-align: right;\">\n",
              "      <th></th>\n",
              "      <th>AÑO</th>\n",
              "      <th>TOTAL MATRICULADOS</th>\n",
              "      <th>MATRICULADOS MUJERES POR PROGRAMA</th>\n",
              "      <th>MATRICULADOS HOMBRES POR PROGRAMA</th>\n",
              "      <th>TOTAL MATRICULADOS PRIMER AÑO</th>\n",
              "      <th>MATRICULADOS MUJERES PRIMER AÑO</th>\n",
              "      <th>MATRICULADOS HOMBRES PRIMER AÑO</th>\n",
              "      <th>CLASIFICACIÓN INSTITUCIÓN NIVEL 1</th>\n",
              "      <th>CLASIFICACIÓN INSTITUCIÓN NIVEL 2</th>\n",
              "      <th>CLASIFICACIÓN INSTITUCIÓN NIVEL 3</th>\n",
              "      <th>...</th>\n",
              "      <th>TES PARTICULAR SUBVENCIONADO</th>\n",
              "      <th>TES PARTICULAR PAGADO</th>\n",
              "      <th>TES CORP. DE ADMINISTRACIÓN DELEGADA</th>\n",
              "      <th>TES SERVICIO LOCAL EDUCACION</th>\n",
              "      <th>TOTAL TES</th>\n",
              "      <th>% COBERTURA TES</th>\n",
              "      <th>TIPO ESTABLECIMIENTO HC</th>\n",
              "      <th>TIPO ESTABLECIMIENTO TP</th>\n",
              "      <th>CLAS_EST ADULTO</th>\n",
              "      <th>CLAS_EST JOVEN</th>\n",
              "    </tr>\n",
              "  </thead>\n",
              "  <tbody>\n",
              "    <tr>\n",
              "      <th>173853</th>\n",
              "      <td>MAT_2010</td>\n",
              "      <td>1</td>\n",
              "      <td>NaN</td>\n",
              "      <td>1.00000</td>\n",
              "      <td>NaN</td>\n",
              "      <td>NaN</td>\n",
              "      <td>NaN</td>\n",
              "      <td>Institutos Profesionales</td>\n",
              "      <td>Institutos Profesionales</td>\n",
              "      <td>Institutos Profesionales</td>\n",
              "      <td>...</td>\n",
              "      <td>NaN</td>\n",
              "      <td>NaN</td>\n",
              "      <td>NaN</td>\n",
              "      <td>NaN</td>\n",
              "      <td>0</td>\n",
              "      <td>0,0%</td>\n",
              "      <td>NaN</td>\n",
              "      <td>NaN</td>\n",
              "      <td>NaN</td>\n",
              "      <td>NaN</td>\n",
              "    </tr>\n",
              "    <tr>\n",
              "      <th>173854</th>\n",
              "      <td>MAT_2010</td>\n",
              "      <td>2</td>\n",
              "      <td>NaN</td>\n",
              "      <td>2.00000</td>\n",
              "      <td>NaN</td>\n",
              "      <td>NaN</td>\n",
              "      <td>NaN</td>\n",
              "      <td>Institutos Profesionales</td>\n",
              "      <td>Institutos Profesionales</td>\n",
              "      <td>Institutos Profesionales</td>\n",
              "      <td>...</td>\n",
              "      <td>NaN</td>\n",
              "      <td>NaN</td>\n",
              "      <td>NaN</td>\n",
              "      <td>NaN</td>\n",
              "      <td>0</td>\n",
              "      <td>0,0%</td>\n",
              "      <td>NaN</td>\n",
              "      <td>NaN</td>\n",
              "      <td>NaN</td>\n",
              "      <td>NaN</td>\n",
              "    </tr>\n",
              "    <tr>\n",
              "      <th>173855</th>\n",
              "      <td>MAT_2010</td>\n",
              "      <td>1</td>\n",
              "      <td>NaN</td>\n",
              "      <td>1.00000</td>\n",
              "      <td>NaN</td>\n",
              "      <td>NaN</td>\n",
              "      <td>NaN</td>\n",
              "      <td>Institutos Profesionales</td>\n",
              "      <td>Institutos Profesionales</td>\n",
              "      <td>Institutos Profesionales</td>\n",
              "      <td>...</td>\n",
              "      <td>NaN</td>\n",
              "      <td>NaN</td>\n",
              "      <td>NaN</td>\n",
              "      <td>NaN</td>\n",
              "      <td>1</td>\n",
              "      <td>100,0%</td>\n",
              "      <td>NaN</td>\n",
              "      <td>1.00000</td>\n",
              "      <td>NaN</td>\n",
              "      <td>1.00000</td>\n",
              "    </tr>\n",
              "    <tr>\n",
              "      <th>173856</th>\n",
              "      <td>MAT_2010</td>\n",
              "      <td>1</td>\n",
              "      <td>NaN</td>\n",
              "      <td>1.00000</td>\n",
              "      <td>NaN</td>\n",
              "      <td>NaN</td>\n",
              "      <td>NaN</td>\n",
              "      <td>Institutos Profesionales</td>\n",
              "      <td>Institutos Profesionales</td>\n",
              "      <td>Institutos Profesionales</td>\n",
              "      <td>...</td>\n",
              "      <td>NaN</td>\n",
              "      <td>NaN</td>\n",
              "      <td>1.00000</td>\n",
              "      <td>NaN</td>\n",
              "      <td>1</td>\n",
              "      <td>100,0%</td>\n",
              "      <td>NaN</td>\n",
              "      <td>1.00000</td>\n",
              "      <td>NaN</td>\n",
              "      <td>1.00000</td>\n",
              "    </tr>\n",
              "    <tr>\n",
              "      <th>173857</th>\n",
              "      <td>MAT_2010</td>\n",
              "      <td>1</td>\n",
              "      <td>NaN</td>\n",
              "      <td>1.00000</td>\n",
              "      <td>NaN</td>\n",
              "      <td>NaN</td>\n",
              "      <td>NaN</td>\n",
              "      <td>Institutos Profesionales</td>\n",
              "      <td>Institutos Profesionales</td>\n",
              "      <td>Institutos Profesionales</td>\n",
              "      <td>...</td>\n",
              "      <td>NaN</td>\n",
              "      <td>NaN</td>\n",
              "      <td>NaN</td>\n",
              "      <td>NaN</td>\n",
              "      <td>0</td>\n",
              "      <td>0,0%</td>\n",
              "      <td>NaN</td>\n",
              "      <td>NaN</td>\n",
              "      <td>NaN</td>\n",
              "      <td>NaN</td>\n",
              "    </tr>\n",
              "    <tr>\n",
              "      <th>...</th>\n",
              "      <td>...</td>\n",
              "      <td>...</td>\n",
              "      <td>...</td>\n",
              "      <td>...</td>\n",
              "      <td>...</td>\n",
              "      <td>...</td>\n",
              "      <td>...</td>\n",
              "      <td>...</td>\n",
              "      <td>...</td>\n",
              "      <td>...</td>\n",
              "      <td>...</td>\n",
              "      <td>...</td>\n",
              "      <td>...</td>\n",
              "      <td>...</td>\n",
              "      <td>...</td>\n",
              "      <td>...</td>\n",
              "      <td>...</td>\n",
              "      <td>...</td>\n",
              "      <td>...</td>\n",
              "      <td>...</td>\n",
              "      <td>...</td>\n",
              "    </tr>\n",
              "    <tr>\n",
              "      <th>216148</th>\n",
              "      <td>MAT_2007</td>\n",
              "      <td>18</td>\n",
              "      <td>13.00000</td>\n",
              "      <td>5.00000</td>\n",
              "      <td>18.00000</td>\n",
              "      <td>13.00000</td>\n",
              "      <td>5.00000</td>\n",
              "      <td>Universidades</td>\n",
              "      <td>Universidades Privadas</td>\n",
              "      <td>Universidades Privadas</td>\n",
              "      <td>...</td>\n",
              "      <td>5.00000</td>\n",
              "      <td>2.00000</td>\n",
              "      <td>NaN</td>\n",
              "      <td>NaN</td>\n",
              "      <td>10</td>\n",
              "      <td>55,6%</td>\n",
              "      <td>9.00000</td>\n",
              "      <td>1.00000</td>\n",
              "      <td>NaN</td>\n",
              "      <td>10.00000</td>\n",
              "    </tr>\n",
              "    <tr>\n",
              "      <th>216149</th>\n",
              "      <td>MAT_2007</td>\n",
              "      <td>13</td>\n",
              "      <td>7.00000</td>\n",
              "      <td>6.00000</td>\n",
              "      <td>13.00000</td>\n",
              "      <td>7.00000</td>\n",
              "      <td>6.00000</td>\n",
              "      <td>Universidades</td>\n",
              "      <td>Universidades Privadas</td>\n",
              "      <td>Universidades Privadas</td>\n",
              "      <td>...</td>\n",
              "      <td>4.00000</td>\n",
              "      <td>1.00000</td>\n",
              "      <td>NaN</td>\n",
              "      <td>NaN</td>\n",
              "      <td>7</td>\n",
              "      <td>53,8%</td>\n",
              "      <td>5.00000</td>\n",
              "      <td>2.00000</td>\n",
              "      <td>NaN</td>\n",
              "      <td>7.00000</td>\n",
              "    </tr>\n",
              "    <tr>\n",
              "      <th>216150</th>\n",
              "      <td>MAT_2007</td>\n",
              "      <td>16</td>\n",
              "      <td>10.00000</td>\n",
              "      <td>6.00000</td>\n",
              "      <td>NaN</td>\n",
              "      <td>NaN</td>\n",
              "      <td>NaN</td>\n",
              "      <td>Universidades</td>\n",
              "      <td>Universidades Privadas</td>\n",
              "      <td>Universidades Privadas</td>\n",
              "      <td>...</td>\n",
              "      <td>5.00000</td>\n",
              "      <td>NaN</td>\n",
              "      <td>NaN</td>\n",
              "      <td>NaN</td>\n",
              "      <td>8</td>\n",
              "      <td>50,0%</td>\n",
              "      <td>6.00000</td>\n",
              "      <td>2.00000</td>\n",
              "      <td>1.00000</td>\n",
              "      <td>7.00000</td>\n",
              "    </tr>\n",
              "    <tr>\n",
              "      <th>216151</th>\n",
              "      <td>MAT_2007</td>\n",
              "      <td>123</td>\n",
              "      <td>61.00000</td>\n",
              "      <td>62.00000</td>\n",
              "      <td>44.00000</td>\n",
              "      <td>23.00000</td>\n",
              "      <td>21.00000</td>\n",
              "      <td>Universidades</td>\n",
              "      <td>Universidades Privadas</td>\n",
              "      <td>Universidades Privadas</td>\n",
              "      <td>...</td>\n",
              "      <td>33.00000</td>\n",
              "      <td>8.00000</td>\n",
              "      <td>NaN</td>\n",
              "      <td>NaN</td>\n",
              "      <td>58</td>\n",
              "      <td>47,2%</td>\n",
              "      <td>50.00000</td>\n",
              "      <td>8.00000</td>\n",
              "      <td>4.00000</td>\n",
              "      <td>54.00000</td>\n",
              "    </tr>\n",
              "    <tr>\n",
              "      <th>216152</th>\n",
              "      <td>MAT_2007</td>\n",
              "      <td>169</td>\n",
              "      <td>126.00000</td>\n",
              "      <td>43.00000</td>\n",
              "      <td>35.00000</td>\n",
              "      <td>30.00000</td>\n",
              "      <td>5.00000</td>\n",
              "      <td>Universidades</td>\n",
              "      <td>Universidades Privadas</td>\n",
              "      <td>Universidades Privadas</td>\n",
              "      <td>...</td>\n",
              "      <td>25.00000</td>\n",
              "      <td>3.00000</td>\n",
              "      <td>NaN</td>\n",
              "      <td>NaN</td>\n",
              "      <td>56</td>\n",
              "      <td>33,1%</td>\n",
              "      <td>45.00000</td>\n",
              "      <td>11.00000</td>\n",
              "      <td>3.00000</td>\n",
              "      <td>53.00000</td>\n",
              "    </tr>\n",
              "  </tbody>\n",
              "</table>\n",
              "<p>42300 rows × 56 columns</p>\n",
              "</div>"
            ],
            "text/plain": [
              "             AÑO  TOTAL MATRICULADOS  MATRICULADOS MUJERES POR PROGRAMA  \\\n",
              "173853  MAT_2010                   1                                NaN   \n",
              "173854  MAT_2010                   2                                NaN   \n",
              "173855  MAT_2010                   1                                NaN   \n",
              "173856  MAT_2010                   1                                NaN   \n",
              "173857  MAT_2010                   1                                NaN   \n",
              "...          ...                 ...                                ...   \n",
              "216148  MAT_2007                  18                           13.00000   \n",
              "216149  MAT_2007                  13                            7.00000   \n",
              "216150  MAT_2007                  16                           10.00000   \n",
              "216151  MAT_2007                 123                           61.00000   \n",
              "216152  MAT_2007                 169                          126.00000   \n",
              "\n",
              "        MATRICULADOS HOMBRES POR PROGRAMA  TOTAL MATRICULADOS PRIMER AÑO  \\\n",
              "173853                            1.00000                            NaN   \n",
              "173854                            2.00000                            NaN   \n",
              "173855                            1.00000                            NaN   \n",
              "173856                            1.00000                            NaN   \n",
              "173857                            1.00000                            NaN   \n",
              "...                                   ...                            ...   \n",
              "216148                            5.00000                       18.00000   \n",
              "216149                            6.00000                       13.00000   \n",
              "216150                            6.00000                            NaN   \n",
              "216151                           62.00000                       44.00000   \n",
              "216152                           43.00000                       35.00000   \n",
              "\n",
              "        MATRICULADOS MUJERES PRIMER AÑO  MATRICULADOS HOMBRES PRIMER AÑO  \\\n",
              "173853                              NaN                              NaN   \n",
              "173854                              NaN                              NaN   \n",
              "173855                              NaN                              NaN   \n",
              "173856                              NaN                              NaN   \n",
              "173857                              NaN                              NaN   \n",
              "...                                 ...                              ...   \n",
              "216148                         13.00000                          5.00000   \n",
              "216149                          7.00000                          6.00000   \n",
              "216150                              NaN                              NaN   \n",
              "216151                         23.00000                         21.00000   \n",
              "216152                         30.00000                          5.00000   \n",
              "\n",
              "       CLASIFICACIÓN INSTITUCIÓN NIVEL 1 CLASIFICACIÓN INSTITUCIÓN NIVEL 2  \\\n",
              "173853          Institutos Profesionales          Institutos Profesionales   \n",
              "173854          Institutos Profesionales          Institutos Profesionales   \n",
              "173855          Institutos Profesionales          Institutos Profesionales   \n",
              "173856          Institutos Profesionales          Institutos Profesionales   \n",
              "173857          Institutos Profesionales          Institutos Profesionales   \n",
              "...                                  ...                               ...   \n",
              "216148                     Universidades            Universidades Privadas   \n",
              "216149                     Universidades            Universidades Privadas   \n",
              "216150                     Universidades            Universidades Privadas   \n",
              "216151                     Universidades            Universidades Privadas   \n",
              "216152                     Universidades            Universidades Privadas   \n",
              "\n",
              "       CLASIFICACIÓN INSTITUCIÓN NIVEL 3  ...  TES PARTICULAR SUBVENCIONADO  \\\n",
              "173853          Institutos Profesionales  ...                           NaN   \n",
              "173854          Institutos Profesionales  ...                           NaN   \n",
              "173855          Institutos Profesionales  ...                           NaN   \n",
              "173856          Institutos Profesionales  ...                           NaN   \n",
              "173857          Institutos Profesionales  ...                           NaN   \n",
              "...                                  ...  ...                           ...   \n",
              "216148            Universidades Privadas  ...                       5.00000   \n",
              "216149            Universidades Privadas  ...                       4.00000   \n",
              "216150            Universidades Privadas  ...                       5.00000   \n",
              "216151            Universidades Privadas  ...                      33.00000   \n",
              "216152            Universidades Privadas  ...                      25.00000   \n",
              "\n",
              "       TES PARTICULAR PAGADO TES CORP. DE ADMINISTRACIÓN DELEGADA  \\\n",
              "173853                   NaN                                  NaN   \n",
              "173854                   NaN                                  NaN   \n",
              "173855                   NaN                                  NaN   \n",
              "173856                   NaN                              1.00000   \n",
              "173857                   NaN                                  NaN   \n",
              "...                      ...                                  ...   \n",
              "216148               2.00000                                  NaN   \n",
              "216149               1.00000                                  NaN   \n",
              "216150                   NaN                                  NaN   \n",
              "216151               8.00000                                  NaN   \n",
              "216152               3.00000                                  NaN   \n",
              "\n",
              "       TES SERVICIO LOCAL EDUCACION TOTAL TES % COBERTURA TES  \\\n",
              "173853                          NaN         0            0,0%   \n",
              "173854                          NaN         0            0,0%   \n",
              "173855                          NaN         1          100,0%   \n",
              "173856                          NaN         1          100,0%   \n",
              "173857                          NaN         0            0,0%   \n",
              "...                             ...       ...             ...   \n",
              "216148                          NaN        10           55,6%   \n",
              "216149                          NaN         7           53,8%   \n",
              "216150                          NaN         8           50,0%   \n",
              "216151                          NaN        58           47,2%   \n",
              "216152                          NaN        56           33,1%   \n",
              "\n",
              "       TIPO ESTABLECIMIENTO HC TIPO ESTABLECIMIENTO TP CLAS_EST ADULTO  \\\n",
              "173853                     NaN                     NaN             NaN   \n",
              "173854                     NaN                     NaN             NaN   \n",
              "173855                     NaN                 1.00000             NaN   \n",
              "173856                     NaN                 1.00000             NaN   \n",
              "173857                     NaN                     NaN             NaN   \n",
              "...                        ...                     ...             ...   \n",
              "216148                 9.00000                 1.00000             NaN   \n",
              "216149                 5.00000                 2.00000             NaN   \n",
              "216150                 6.00000                 2.00000         1.00000   \n",
              "216151                50.00000                 8.00000         4.00000   \n",
              "216152                45.00000                11.00000         3.00000   \n",
              "\n",
              "       CLAS_EST JOVEN  \n",
              "173853            NaN  \n",
              "173854            NaN  \n",
              "173855        1.00000  \n",
              "173856        1.00000  \n",
              "173857            NaN  \n",
              "...               ...  \n",
              "216148       10.00000  \n",
              "216149        7.00000  \n",
              "216150        7.00000  \n",
              "216151       54.00000  \n",
              "216152       53.00000  \n",
              "\n",
              "[42300 rows x 56 columns]"
            ]
          },
          "metadata": {},
          "output_type": "display_data"
        }
      ],
      "source": [
        "print(\"Se filtra base de datos en donde MODALIDAD sea un valor faltante:\")\n",
        "matriculados_modalidadNA = matriculados[matriculados['MODALIDAD'].isna()]\n",
        "display(matriculados_modalidadNA)\n"
      ]
    },
    {
      "cell_type": "code",
      "execution_count": 12,
      "metadata": {},
      "outputs": [
        {
          "name": "stdout",
          "output_type": "stream",
          "text": [
            "Recuento de valores faltantes según el año:\n"
          ]
        },
        {
          "data": {
            "text/plain": [
              "MAT_2010    12147\n",
              "MAT_2009    11414\n",
              "MAT_2008     9943\n",
              "MAT_2007     8796\n",
              "Name: AÑO, dtype: int64"
            ]
          },
          "metadata": {},
          "output_type": "display_data"
        },
        {
          "name": "stdout",
          "output_type": "stream",
          "text": [
            "Proporción de Modalidad según Base de Datos de Matriculados:\n"
          ]
        },
        {
          "data": {
            "text/plain": [
              "Presencial       92.87000\n",
              "No Presencial     3.58000\n",
              "Semipresencial    3.55000\n",
              "Name: MODALIDAD, dtype: float64"
            ]
          },
          "metadata": {},
          "output_type": "display_data"
        }
      ],
      "source": [
        "print(\"Recuento de valores faltantes según el año:\")\n",
        "display(matriculados_modalidadNA['AÑO'].value_counts())\n",
        "print(\"Proporción de Modalidad según Base de Datos de Matriculados:\")\n",
        "display(round(matriculados['MODALIDAD'].value_counts(normalize=True)*100,2))"
      ]
    },
    {
      "attachments": {},
      "cell_type": "markdown",
      "metadata": {},
      "source": [
        "### Conclusión N°3:\n",
        "\n",
        "Dado el N° de Faltantes y el año que corresponden, se determina lo siguiente:\n",
        "\n",
        "el 100% de los datos faltantes corresponden a datos de años entre el 2007 y 2010, por lo que podemos asumir que no existia la modalidad `No presencial` y `Semi presencial`.\n",
        "\n",
        "Se sugiere reemplazar todos estos valores faltantes por la categoria \"Presencial\", que es lo que se asume a priori, o en su defecto distribuir de acuerdo a la proporción de la base de datos completa."
      ]
    },
    {
      "attachments": {},
      "cell_type": "markdown",
      "metadata": {},
      "source": [
        "### Analisis 4:\n",
        "\n",
        "Se verificaran las columnas `DURACIÓN ESTUDIO CARRERA` Y `DURACIÓN TOTAL DE LA CARRERA`\n"
      ]
    },
    {
      "cell_type": "code",
      "execution_count": 13,
      "metadata": {},
      "outputs": [],
      "source": [
        "data_na = matriculados[(matriculados['DURACIÓN ESTUDIO CARRERA'].isna() & matriculados['DURACIÓN TOTAL DE CARRERA'].isna())]"
      ]
    },
    {
      "cell_type": "code",
      "execution_count": 14,
      "metadata": {},
      "outputs": [
        {
          "data": {
            "text/plain": [
              "DURACIÓN ESTUDIO CARRERA     106\n",
              "DURACIÓN TOTAL DE CARRERA    106\n",
              "dtype: int64"
            ]
          },
          "execution_count": 14,
          "metadata": {},
          "output_type": "execute_result"
        }
      ],
      "source": [
        "data_na[['DURACIÓN ESTUDIO CARRERA','DURACIÓN TOTAL DE CARRERA']].isna().sum()"
      ]
    },
    {
      "cell_type": "code",
      "execution_count": 15,
      "metadata": {},
      "outputs": [
        {
          "name": "stdout",
          "output_type": "stream",
          "text": [
            "Recuento de Duración de Estudio Carrera:\n"
          ]
        },
        {
          "data": {
            "text/plain": [
              "5.00000     47672\n",
              "4.00000     46061\n",
              "8.00000     45862\n",
              "10.00000    27953\n",
              "9.00000     10345\n",
              "2.00000      9388\n",
              "6.00000      8818\n",
              "3.00000      5598\n",
              "1.00000      4889\n",
              "12.00000     4524\n",
              "7.00000      2131\n",
              "11.00000     2067\n",
              "14.00000      502\n",
              "20.00000      170\n",
              "24.00000       32\n",
              "13.00000       21\n",
              "16.00000       11\n",
              "18.00000        1\n",
              "33.00000        1\n",
              "15.00000        1\n",
              "Name: DURACIÓN ESTUDIO CARRERA, dtype: int64"
            ]
          },
          "metadata": {},
          "output_type": "display_data"
        },
        {
          "name": "stdout",
          "output_type": "stream",
          "text": [
            "Proporción de Duración de Estudio Carrera:\n"
          ]
        },
        {
          "data": {
            "text/plain": [
              "5.00000    22.06557\n",
              "4.00000    21.31990\n",
              "8.00000    21.22779\n",
              "10.00000   12.93839\n",
              "9.00000     4.78831\n",
              "2.00000     4.34535\n",
              "6.00000     4.08152\n",
              "3.00000     2.59110\n",
              "1.00000     2.26293\n",
              "12.00000    2.09399\n",
              "7.00000     0.98636\n",
              "11.00000    0.95674\n",
              "14.00000    0.23236\n",
              "20.00000    0.07869\n",
              "24.00000    0.01481\n",
              "13.00000    0.00972\n",
              "16.00000    0.00509\n",
              "18.00000    0.00046\n",
              "33.00000    0.00046\n",
              "15.00000    0.00046\n",
              "Name: DURACIÓN ESTUDIO CARRERA, dtype: float64"
            ]
          },
          "metadata": {},
          "output_type": "display_data"
        }
      ],
      "source": [
        "print(\"Recuento de Duración de Estudio Carrera:\")\n",
        "display(matriculados['DURACIÓN ESTUDIO CARRERA'].value_counts())\n",
        "print(\"Proporción de Duración de Estudio Carrera:\")\n",
        "display(matriculados['DURACIÓN ESTUDIO CARRERA'].value_counts(normalize=True)*100)"
      ]
    },
    {
      "attachments": {},
      "cell_type": "markdown",
      "metadata": {},
      "source": [
        "### Conclusión N°4:\n",
        "\n",
        "Dado que la `DURACIÓN ESTUDIO CARRERA` y `DURACIÓN TOTAL DE CARRERA` son valores faltantes, y al ser menos del 0.1 % de los datos (106 recuentos), se decide eliminar las columnas asociadas a esta característica.\n"
      ]
    },
    {
      "attachments": {},
      "cell_type": "markdown",
      "metadata": {},
      "source": [
        "## Análisis N°5:\n",
        "\n",
        "En el siguiente apartado se verificarán las columnas:\n",
        "\n",
        "* ``RANGO DE EDAD 15 A 19 AÑOS``\n",
        "* ``RANGO DE EDAD 20 A 24 AÑOS``\n",
        "* ``RANGO DE EDAD 25 A 29 AÑOS``\n",
        "* ``RANGO DE EDAD 30 A 34 AÑOS``\n",
        "* ``RANGO DE EDAD 35 A 39 AÑOS``\n",
        "* ``RANGO DE EDAD 40 Y MÁS AÑOS``\n",
        "* ``RANGO DE EDAD SIN INFORMACIÓN``\n"
      ]
    },
    {
      "cell_type": "code",
      "execution_count": 16,
      "metadata": {},
      "outputs": [],
      "source": [
        "data_edad = matriculados[['RANGO DE EDAD 15 A 19 AÑOS','RANGO DE EDAD 20 A 24 AÑOS','RANGO DE EDAD 25 A 29 AÑOS','RANGO DE EDAD 30 A 34 AÑOS','RANGO DE EDAD 35 A 39 AÑOS','RANGO DE EDAD 40 Y MÁS AÑOS','RANGO DE EDAD SIN INFORMACIÓN']]\n"
      ]
    },
    {
      "cell_type": "code",
      "execution_count": 17,
      "metadata": {},
      "outputs": [
        {
          "name": "stdout",
          "output_type": "stream",
          "text": [
            "Base de datos de Edades:\n"
          ]
        },
        {
          "data": {
            "text/html": [
              "<div>\n",
              "<style scoped>\n",
              "    .dataframe tbody tr th:only-of-type {\n",
              "        vertical-align: middle;\n",
              "    }\n",
              "\n",
              "    .dataframe tbody tr th {\n",
              "        vertical-align: top;\n",
              "    }\n",
              "\n",
              "    .dataframe thead th {\n",
              "        text-align: right;\n",
              "    }\n",
              "</style>\n",
              "<table border=\"1\" class=\"dataframe\">\n",
              "  <thead>\n",
              "    <tr style=\"text-align: right;\">\n",
              "      <th></th>\n",
              "      <th>RANGO DE EDAD 15 A 19 AÑOS</th>\n",
              "      <th>RANGO DE EDAD 20 A 24 AÑOS</th>\n",
              "      <th>RANGO DE EDAD 25 A 29 AÑOS</th>\n",
              "      <th>RANGO DE EDAD 30 A 34 AÑOS</th>\n",
              "      <th>RANGO DE EDAD 35 A 39 AÑOS</th>\n",
              "      <th>RANGO DE EDAD 40 Y MÁS AÑOS</th>\n",
              "      <th>RANGO DE EDAD SIN INFORMACIÓN</th>\n",
              "    </tr>\n",
              "  </thead>\n",
              "  <tbody>\n",
              "    <tr>\n",
              "      <th>0</th>\n",
              "      <td>NaN</td>\n",
              "      <td>NaN</td>\n",
              "      <td>NaN</td>\n",
              "      <td>2.00000</td>\n",
              "      <td>NaN</td>\n",
              "      <td>NaN</td>\n",
              "      <td>NaN</td>\n",
              "    </tr>\n",
              "    <tr>\n",
              "      <th>1</th>\n",
              "      <td>NaN</td>\n",
              "      <td>6.00000</td>\n",
              "      <td>1.00000</td>\n",
              "      <td>2.00000</td>\n",
              "      <td>NaN</td>\n",
              "      <td>1.00000</td>\n",
              "      <td>NaN</td>\n",
              "    </tr>\n",
              "    <tr>\n",
              "      <th>2</th>\n",
              "      <td>NaN</td>\n",
              "      <td>15.00000</td>\n",
              "      <td>8.00000</td>\n",
              "      <td>4.00000</td>\n",
              "      <td>1.00000</td>\n",
              "      <td>6.00000</td>\n",
              "      <td>NaN</td>\n",
              "    </tr>\n",
              "    <tr>\n",
              "      <th>3</th>\n",
              "      <td>NaN</td>\n",
              "      <td>8.00000</td>\n",
              "      <td>2.00000</td>\n",
              "      <td>NaN</td>\n",
              "      <td>NaN</td>\n",
              "      <td>NaN</td>\n",
              "      <td>NaN</td>\n",
              "    </tr>\n",
              "    <tr>\n",
              "      <th>4</th>\n",
              "      <td>NaN</td>\n",
              "      <td>58.00000</td>\n",
              "      <td>6.00000</td>\n",
              "      <td>7.00000</td>\n",
              "      <td>1.00000</td>\n",
              "      <td>4.00000</td>\n",
              "      <td>NaN</td>\n",
              "    </tr>\n",
              "  </tbody>\n",
              "</table>\n",
              "</div>"
            ],
            "text/plain": [
              "   RANGO DE EDAD 15 A 19 AÑOS  RANGO DE EDAD 20 A 24 AÑOS  \\\n",
              "0                         NaN                         NaN   \n",
              "1                         NaN                     6.00000   \n",
              "2                         NaN                    15.00000   \n",
              "3                         NaN                     8.00000   \n",
              "4                         NaN                    58.00000   \n",
              "\n",
              "   RANGO DE EDAD 25 A 29 AÑOS  RANGO DE EDAD 30 A 34 AÑOS  \\\n",
              "0                         NaN                     2.00000   \n",
              "1                     1.00000                     2.00000   \n",
              "2                     8.00000                     4.00000   \n",
              "3                     2.00000                         NaN   \n",
              "4                     6.00000                     7.00000   \n",
              "\n",
              "   RANGO DE EDAD 35 A 39 AÑOS  RANGO DE EDAD 40 Y MÁS AÑOS  \\\n",
              "0                         NaN                          NaN   \n",
              "1                         NaN                      1.00000   \n",
              "2                     1.00000                      6.00000   \n",
              "3                         NaN                          NaN   \n",
              "4                     1.00000                      4.00000   \n",
              "\n",
              "   RANGO DE EDAD SIN INFORMACIÓN  \n",
              "0                            NaN  \n",
              "1                            NaN  \n",
              "2                            NaN  \n",
              "3                            NaN  \n",
              "4                            NaN  "
            ]
          },
          "metadata": {},
          "output_type": "display_data"
        }
      ],
      "source": [
        "print(\"Base de datos de Edades:\")\n",
        "display(data_edad.head())"
      ]
    },
    {
      "cell_type": "code",
      "execution_count": 18,
      "metadata": {},
      "outputs": [
        {
          "name": "stdout",
          "output_type": "stream",
          "text": [
            "Corroboración en los casos en que todas las filas las columnas seleccionadas tengan valores na:\n"
          ]
        },
        {
          "data": {
            "text/plain": [
              "False    216153\n",
              "dtype: int64"
            ]
          },
          "metadata": {},
          "output_type": "display_data"
        }
      ],
      "source": [
        "print(\"Corroboración en los casos en que todas las filas las columnas seleccionadas tengan valores na:\")\n",
        "display(data_edad.isna().all(axis=1).value_counts())"
      ]
    },
    {
      "attachments": {},
      "cell_type": "markdown",
      "metadata": {},
      "source": [
        "### Conclusión N°5:\n",
        "\n",
        "Debido a ser rangos de edad y la Universidad una institución donde puedes entrar a cualquier edad, se pueden dar estos fenomenos que generen diferentes alternativas, por ende es posible que en algunos casos algunos rangos etarios no tengan matricula asociada, por ende se reemplazaran los valores por 0.\n",
        "\n",
        "Adicional a esto, se corroboró si alguna fila todos los rangos tenian datos `nan`, y el código diseñado para verificar esto arrojo un **FALSE**."
      ]
    },
    {
      "attachments": {},
      "cell_type": "markdown",
      "metadata": {},
      "source": [
        "## Análisis 6\n",
        "\n",
        "Las columnas de análisis son las siguientes:\n",
        "\n",
        "* ``PROMEDIO EDAD CARRERA``\n",
        "* ``PROMEDIO EDAD MUJER``\n",
        "* ``PROMEDIO EDAD HOMBRE``\n",
        "\n",
        "y se cruzarán datos con `MATRICULADOS MUJERES TOTAL` Y `MATRICULADOS HOMBRES TOTAL`"
      ]
    },
    {
      "cell_type": "code",
      "execution_count": 19,
      "metadata": {},
      "outputs": [
        {
          "data": {
            "text/plain": [
              "Index(['AÑO', 'TOTAL MATRICULADOS', 'MATRICULADOS MUJERES POR PROGRAMA',\n",
              "       'MATRICULADOS HOMBRES POR PROGRAMA', 'TOTAL MATRICULADOS PRIMER AÑO',\n",
              "       'MATRICULADOS MUJERES PRIMER AÑO', 'MATRICULADOS HOMBRES PRIMER AÑO',\n",
              "       'CLASIFICACIÓN INSTITUCIÓN NIVEL 1',\n",
              "       'CLASIFICACIÓN INSTITUCIÓN NIVEL 2',\n",
              "       'CLASIFICACIÓN INSTITUCIÓN NIVEL 3', 'CÓDIGO DE INSTITUCIÓN',\n",
              "       'NOMBRE INSTITUCIÓN', 'ACREDITACIÓN INSTITUCIONAL', 'REGIÓN',\n",
              "       'PROVINCIA', 'COMUNA', 'NOMBRE SEDE', 'NOMBRE CARRERA',\n",
              "       'ÁREA DEL CONOCIMIENTO', 'CINE-F 1997 ÁREA', 'CINE-F 1997 SUBAREA',\n",
              "       'ÁREA CARRERA GENÉRICA', 'CINE-F 2013 ÁREA', 'CINE-F 2013 SUBAREA',\n",
              "       'NIVEL GLOBAL', 'CARRERA CLASIFICACIÓN NIVEL 1',\n",
              "       'CARRERA CLASIFICACIÓN NIVEL 2', 'MODALIDAD', 'JORNADA',\n",
              "       'TIPO DE PLAN DE LA CARRERA', 'DURACIÓN ESTUDIO CARRERA',\n",
              "       'DURACIÓN TOTAL DE CARRERA', 'CÓDIGO CARRERA', 'ACREDITACIÓN CARRERA',\n",
              "       'TOTAL RANGO DE EDAD', 'RANGO DE EDAD 15 A 19 AÑOS',\n",
              "       'RANGO DE EDAD 20 A 24 AÑOS', 'RANGO DE EDAD 25 A 29 AÑOS',\n",
              "       'RANGO DE EDAD 30 A 34 AÑOS', 'RANGO DE EDAD 35 A 39 AÑOS',\n",
              "       'RANGO DE EDAD 40 Y MÁS AÑOS', 'RANGO DE EDAD SIN INFORMACIÓN',\n",
              "       ' PROMEDIO EDAD CARRERA ', ' PROMEDIO EDAD MUJER ',\n",
              "       ' PROMEDIO EDAD HOMBRE ', 'TES MUNICIPAL',\n",
              "       'TES PARTICULAR SUBVENCIONADO', 'TES PARTICULAR PAGADO',\n",
              "       'TES CORP. DE ADMINISTRACIÓN DELEGADA', 'TES SERVICIO LOCAL EDUCACION',\n",
              "       'TOTAL TES', '% COBERTURA TES', 'TIPO ESTABLECIMIENTO HC',\n",
              "       'TIPO ESTABLECIMIENTO TP', 'CLAS_EST ADULTO', 'CLAS_EST JOVEN'],\n",
              "      dtype='object')"
            ]
          },
          "execution_count": 19,
          "metadata": {},
          "output_type": "execute_result"
        }
      ],
      "source": [
        "matriculados.columns"
      ]
    },
    {
      "cell_type": "code",
      "execution_count": 20,
      "metadata": {},
      "outputs": [],
      "source": [
        "data_6 = matriculados[[' PROMEDIO EDAD CARRERA ',' PROMEDIO EDAD MUJER ',' PROMEDIO EDAD HOMBRE ','MATRICULADOS MUJERES POR PROGRAMA','MATRICULADOS HOMBRES POR PROGRAMA','RANGO DE EDAD SIN INFORMACIÓN']]"
      ]
    },
    {
      "cell_type": "code",
      "execution_count": 21,
      "metadata": {},
      "outputs": [
        {
          "name": "stdout",
          "output_type": "stream",
          "text": [
            "Cuando promedio de edad de carrera es igual a nan, se debe a que existen rangos de Edad sin Información, por ende no se puede determinar correctamente el promedio\n"
          ]
        },
        {
          "data": {
            "text/html": [
              "<div>\n",
              "<style scoped>\n",
              "    .dataframe tbody tr th:only-of-type {\n",
              "        vertical-align: middle;\n",
              "    }\n",
              "\n",
              "    .dataframe tbody tr th {\n",
              "        vertical-align: top;\n",
              "    }\n",
              "\n",
              "    .dataframe thead th {\n",
              "        text-align: right;\n",
              "    }\n",
              "</style>\n",
              "<table border=\"1\" class=\"dataframe\">\n",
              "  <thead>\n",
              "    <tr style=\"text-align: right;\">\n",
              "      <th></th>\n",
              "      <th>PROMEDIO EDAD CARRERA</th>\n",
              "      <th>PROMEDIO EDAD MUJER</th>\n",
              "      <th>PROMEDIO EDAD HOMBRE</th>\n",
              "      <th>MATRICULADOS MUJERES POR PROGRAMA</th>\n",
              "      <th>MATRICULADOS HOMBRES POR PROGRAMA</th>\n",
              "      <th>RANGO DE EDAD SIN INFORMACIÓN</th>\n",
              "    </tr>\n",
              "  </thead>\n",
              "  <tbody>\n",
              "    <tr>\n",
              "      <th>55157</th>\n",
              "      <td>NaN</td>\n",
              "      <td>NaN</td>\n",
              "      <td>NaN</td>\n",
              "      <td>18.00000</td>\n",
              "      <td>5.00000</td>\n",
              "      <td>23.00000</td>\n",
              "    </tr>\n",
              "    <tr>\n",
              "      <th>55577</th>\n",
              "      <td>NaN</td>\n",
              "      <td>NaN</td>\n",
              "      <td>NaN</td>\n",
              "      <td>NaN</td>\n",
              "      <td>1.00000</td>\n",
              "      <td>1.00000</td>\n",
              "    </tr>\n",
              "    <tr>\n",
              "      <th>57182</th>\n",
              "      <td>NaN</td>\n",
              "      <td>NaN</td>\n",
              "      <td>NaN</td>\n",
              "      <td>1.00000</td>\n",
              "      <td>NaN</td>\n",
              "      <td>1.00000</td>\n",
              "    </tr>\n",
              "    <tr>\n",
              "      <th>59035</th>\n",
              "      <td>NaN</td>\n",
              "      <td>NaN</td>\n",
              "      <td>NaN</td>\n",
              "      <td>NaN</td>\n",
              "      <td>13.00000</td>\n",
              "      <td>13.00000</td>\n",
              "    </tr>\n",
              "    <tr>\n",
              "      <th>73482</th>\n",
              "      <td>NaN</td>\n",
              "      <td>NaN</td>\n",
              "      <td>NaN</td>\n",
              "      <td>NaN</td>\n",
              "      <td>1.00000</td>\n",
              "      <td>1.00000</td>\n",
              "    </tr>\n",
              "  </tbody>\n",
              "</table>\n",
              "</div>"
            ],
            "text/plain": [
              "       PROMEDIO EDAD CARRERA   PROMEDIO EDAD MUJER   PROMEDIO EDAD HOMBRE   \\\n",
              "55157                     NaN                   NaN                    NaN   \n",
              "55577                     NaN                   NaN                    NaN   \n",
              "57182                     NaN                   NaN                    NaN   \n",
              "59035                     NaN                   NaN                    NaN   \n",
              "73482                     NaN                   NaN                    NaN   \n",
              "\n",
              "       MATRICULADOS MUJERES POR PROGRAMA  MATRICULADOS HOMBRES POR PROGRAMA  \\\n",
              "55157                           18.00000                            5.00000   \n",
              "55577                                NaN                            1.00000   \n",
              "57182                            1.00000                                NaN   \n",
              "59035                                NaN                           13.00000   \n",
              "73482                                NaN                            1.00000   \n",
              "\n",
              "       RANGO DE EDAD SIN INFORMACIÓN  \n",
              "55157                       23.00000  \n",
              "55577                        1.00000  \n",
              "57182                        1.00000  \n",
              "59035                       13.00000  \n",
              "73482                        1.00000  "
            ]
          },
          "metadata": {},
          "output_type": "display_data"
        }
      ],
      "source": [
        "print(\"Cuando promedio de edad de carrera es igual a nan, se debe a que existen rangos de Edad sin Información, por ende no se puede determinar correctamente el promedio\")\n",
        "display(data_6[(data_6[' PROMEDIO EDAD CARRERA '].isna())].head())"
      ]
    },
    {
      "cell_type": "code",
      "execution_count": 22,
      "metadata": {},
      "outputs": [
        {
          "name": "stdout",
          "output_type": "stream",
          "text": [
            "Cuando el promedio de edad mujer es igual a nan, y tanto el n° de matriculados de mujeres como la edad promedio de la carrera son distintos a nan\n",
            "se entiende que el N° de mujeres matriculadas por programa se enlazan con los de rango de edad sin información.\n"
          ]
        },
        {
          "data": {
            "text/html": [
              "<div>\n",
              "<style scoped>\n",
              "    .dataframe tbody tr th:only-of-type {\n",
              "        vertical-align: middle;\n",
              "    }\n",
              "\n",
              "    .dataframe tbody tr th {\n",
              "        vertical-align: top;\n",
              "    }\n",
              "\n",
              "    .dataframe thead th {\n",
              "        text-align: right;\n",
              "    }\n",
              "</style>\n",
              "<table border=\"1\" class=\"dataframe\">\n",
              "  <thead>\n",
              "    <tr style=\"text-align: right;\">\n",
              "      <th></th>\n",
              "      <th>PROMEDIO EDAD CARRERA</th>\n",
              "      <th>PROMEDIO EDAD MUJER</th>\n",
              "      <th>PROMEDIO EDAD HOMBRE</th>\n",
              "      <th>MATRICULADOS MUJERES POR PROGRAMA</th>\n",
              "      <th>MATRICULADOS HOMBRES POR PROGRAMA</th>\n",
              "      <th>RANGO DE EDAD SIN INFORMACIÓN</th>\n",
              "    </tr>\n",
              "  </thead>\n",
              "  <tbody>\n",
              "    <tr>\n",
              "      <th>101120</th>\n",
              "      <td>40,8</td>\n",
              "      <td>NaN</td>\n",
              "      <td>40,8</td>\n",
              "      <td>1.00000</td>\n",
              "      <td>8.00000</td>\n",
              "      <td>1.00000</td>\n",
              "    </tr>\n",
              "    <tr>\n",
              "      <th>103126</th>\n",
              "      <td>56,0</td>\n",
              "      <td>NaN</td>\n",
              "      <td>56,0</td>\n",
              "      <td>1.00000</td>\n",
              "      <td>1.00000</td>\n",
              "      <td>1.00000</td>\n",
              "    </tr>\n",
              "    <tr>\n",
              "      <th>117937</th>\n",
              "      <td>55,0</td>\n",
              "      <td>NaN</td>\n",
              "      <td>55,0</td>\n",
              "      <td>1.00000</td>\n",
              "      <td>1.00000</td>\n",
              "      <td>1.00000</td>\n",
              "    </tr>\n",
              "    <tr>\n",
              "      <th>124439</th>\n",
              "      <td>42,0</td>\n",
              "      <td>NaN</td>\n",
              "      <td>42,0</td>\n",
              "      <td>13.00000</td>\n",
              "      <td>14.00000</td>\n",
              "      <td>26.00000</td>\n",
              "    </tr>\n",
              "    <tr>\n",
              "      <th>124440</th>\n",
              "      <td>27,5</td>\n",
              "      <td>NaN</td>\n",
              "      <td>27,5</td>\n",
              "      <td>41.00000</td>\n",
              "      <td>69.00000</td>\n",
              "      <td>108.00000</td>\n",
              "    </tr>\n",
              "  </tbody>\n",
              "</table>\n",
              "</div>"
            ],
            "text/plain": [
              "        PROMEDIO EDAD CARRERA   PROMEDIO EDAD MUJER   PROMEDIO EDAD HOMBRE   \\\n",
              "101120                   40,8                    NaN                  40,8    \n",
              "103126                   56,0                    NaN                  56,0    \n",
              "117937                   55,0                    NaN                  55,0    \n",
              "124439                   42,0                    NaN                  42,0    \n",
              "124440                   27,5                    NaN                  27,5    \n",
              "\n",
              "        MATRICULADOS MUJERES POR PROGRAMA  MATRICULADOS HOMBRES POR PROGRAMA  \\\n",
              "101120                            1.00000                            8.00000   \n",
              "103126                            1.00000                            1.00000   \n",
              "117937                            1.00000                            1.00000   \n",
              "124439                           13.00000                           14.00000   \n",
              "124440                           41.00000                           69.00000   \n",
              "\n",
              "        RANGO DE EDAD SIN INFORMACIÓN  \n",
              "101120                        1.00000  \n",
              "103126                        1.00000  \n",
              "117937                        1.00000  \n",
              "124439                       26.00000  \n",
              "124440                      108.00000  "
            ]
          },
          "metadata": {},
          "output_type": "display_data"
        }
      ],
      "source": [
        "print(\"Cuando el promedio de edad mujer es igual a nan, y tanto el n° de matriculados de mujeres como la edad promedio de la carrera son distintos a nan\")\n",
        "print(\"se entiende que el N° de mujeres matriculadas por programa se enlazan con los de rango de edad sin información.\")\n",
        "display(data_6[(matriculados[' PROMEDIO EDAD MUJER '].isna()) & (~matriculados['MATRICULADOS MUJERES POR PROGRAMA'].isna()) & (~matriculados[' PROMEDIO EDAD CARRERA '].isna())].head())"
      ]
    },
    {
      "cell_type": "code",
      "execution_count": 23,
      "metadata": {},
      "outputs": [
        {
          "name": "stdout",
          "output_type": "stream",
          "text": [
            "Lo mismo para el caso de los hombres\n"
          ]
        },
        {
          "data": {
            "text/html": [
              "<div>\n",
              "<style scoped>\n",
              "    .dataframe tbody tr th:only-of-type {\n",
              "        vertical-align: middle;\n",
              "    }\n",
              "\n",
              "    .dataframe tbody tr th {\n",
              "        vertical-align: top;\n",
              "    }\n",
              "\n",
              "    .dataframe thead th {\n",
              "        text-align: right;\n",
              "    }\n",
              "</style>\n",
              "<table border=\"1\" class=\"dataframe\">\n",
              "  <thead>\n",
              "    <tr style=\"text-align: right;\">\n",
              "      <th></th>\n",
              "      <th>PROMEDIO EDAD CARRERA</th>\n",
              "      <th>PROMEDIO EDAD MUJER</th>\n",
              "      <th>PROMEDIO EDAD HOMBRE</th>\n",
              "      <th>MATRICULADOS MUJERES POR PROGRAMA</th>\n",
              "      <th>MATRICULADOS HOMBRES POR PROGRAMA</th>\n",
              "      <th>RANGO DE EDAD SIN INFORMACIÓN</th>\n",
              "    </tr>\n",
              "  </thead>\n",
              "  <tbody>\n",
              "    <tr>\n",
              "      <th>58592</th>\n",
              "      <td>27,0</td>\n",
              "      <td>27,0</td>\n",
              "      <td>NaN</td>\n",
              "      <td>4.00000</td>\n",
              "      <td>3.00000</td>\n",
              "      <td>6.00000</td>\n",
              "    </tr>\n",
              "    <tr>\n",
              "      <th>64736</th>\n",
              "      <td>25,5</td>\n",
              "      <td>25,5</td>\n",
              "      <td>NaN</td>\n",
              "      <td>377.00000</td>\n",
              "      <td>3.00000</td>\n",
              "      <td>3.00000</td>\n",
              "    </tr>\n",
              "    <tr>\n",
              "      <th>64737</th>\n",
              "      <td>28,4</td>\n",
              "      <td>28,4</td>\n",
              "      <td>NaN</td>\n",
              "      <td>328.00000</td>\n",
              "      <td>1.00000</td>\n",
              "      <td>1.00000</td>\n",
              "    </tr>\n",
              "    <tr>\n",
              "      <th>64776</th>\n",
              "      <td>30,5</td>\n",
              "      <td>30,5</td>\n",
              "      <td>NaN</td>\n",
              "      <td>31.00000</td>\n",
              "      <td>1.00000</td>\n",
              "      <td>1.00000</td>\n",
              "    </tr>\n",
              "    <tr>\n",
              "      <th>67046</th>\n",
              "      <td>50,0</td>\n",
              "      <td>50,0</td>\n",
              "      <td>NaN</td>\n",
              "      <td>1.00000</td>\n",
              "      <td>1.00000</td>\n",
              "      <td>1.00000</td>\n",
              "    </tr>\n",
              "  </tbody>\n",
              "</table>\n",
              "</div>"
            ],
            "text/plain": [
              "       PROMEDIO EDAD CARRERA   PROMEDIO EDAD MUJER   PROMEDIO EDAD HOMBRE   \\\n",
              "58592                   27,0                  27,0                     NaN   \n",
              "64736                   25,5                  25,5                     NaN   \n",
              "64737                   28,4                  28,4                     NaN   \n",
              "64776                   30,5                  30,5                     NaN   \n",
              "67046                   50,0                  50,0                     NaN   \n",
              "\n",
              "       MATRICULADOS MUJERES POR PROGRAMA  MATRICULADOS HOMBRES POR PROGRAMA  \\\n",
              "58592                            4.00000                            3.00000   \n",
              "64736                          377.00000                            3.00000   \n",
              "64737                          328.00000                            1.00000   \n",
              "64776                           31.00000                            1.00000   \n",
              "67046                            1.00000                            1.00000   \n",
              "\n",
              "       RANGO DE EDAD SIN INFORMACIÓN  \n",
              "58592                        6.00000  \n",
              "64736                        3.00000  \n",
              "64737                        1.00000  \n",
              "64776                        1.00000  \n",
              "67046                        1.00000  "
            ]
          },
          "metadata": {},
          "output_type": "display_data"
        }
      ],
      "source": [
        "print(\"Lo mismo para el caso de los hombres\")\n",
        "display(data_6[(matriculados[' PROMEDIO EDAD HOMBRE '].isna()) & (~matriculados['MATRICULADOS HOMBRES POR PROGRAMA'].isna()) & (~matriculados[' PROMEDIO EDAD CARRERA '].isna())].head())"
      ]
    },
    {
      "attachments": {},
      "cell_type": "markdown",
      "metadata": {},
      "source": [
        "### Conclusión 6:\n",
        "\n",
        "Debido a lo anterior, se puede concluir que se pueden reemplazar los valores nan por 0. debido a que la mayoria de los casos depende por el rango de edad sin información, lo cuál es un número indeterminado."
      ]
    },
    {
      "attachments": {},
      "cell_type": "markdown",
      "metadata": {},
      "source": [
        "## Análisis 7:\n",
        "\n",
        "A continuación se analizarán las siguientes columnas:\n",
        "\n",
        "\n",
        "* ``TES MUNICIPAL ``                          \n",
        "* ``TES PARTICULAR SUBVENCIONADO  ``           \n",
        "* ``TES PARTICULAR PAGADO  ``                 \n",
        "* ``TES CORP. DE ADMINISTRACIÓN DELEGADA  ``  \n",
        "* ``TES SERVICIO LOCAL EDUCACION``            \n",
        "\n",
        "En relación con:\n",
        "\n",
        "* `TOTAL TES`"
      ]
    },
    {
      "cell_type": "code",
      "execution_count": 24,
      "metadata": {},
      "outputs": [],
      "source": [
        "\n",
        "data_7 = matriculados[['TES MUNICIPAL','TES PARTICULAR SUBVENCIONADO','TES PARTICULAR PAGADO','TES CORP. DE ADMINISTRACIÓN DELEGADA','TES SERVICIO LOCAL EDUCACION','TOTAL TES']]"
      ]
    },
    {
      "cell_type": "code",
      "execution_count": 25,
      "metadata": {},
      "outputs": [],
      "source": [
        "columnas_tes = ['TES MUNICIPAL','TES PARTICULAR SUBVENCIONADO','TES PARTICULAR PAGADO','TES CORP. DE ADMINISTRACIÓN DELEGADA','TES SERVICIO LOCAL EDUCACION']"
      ]
    },
    {
      "cell_type": "code",
      "execution_count": 26,
      "metadata": {},
      "outputs": [
        {
          "name": "stderr",
          "output_type": "stream",
          "text": [
            "C:\\Users\\aigna\\AppData\\Local\\Temp\\ipykernel_24328\\3725993545.py:1: SettingWithCopyWarning: \n",
            "A value is trying to be set on a copy of a slice from a DataFrame.\n",
            "Try using .loc[row_indexer,col_indexer] = value instead\n",
            "\n",
            "See the caveats in the documentation: https://pandas.pydata.org/pandas-docs/stable/user_guide/indexing.html#returning-a-view-versus-a-copy\n",
            "  data_7['comprobacion_total'] = data_7[columnas_tes].sum(axis=1).astype(int)\n"
          ]
        }
      ],
      "source": [
        "data_7['comprobacion_total'] = data_7[columnas_tes].sum(axis=1).astype(int)"
      ]
    },
    {
      "cell_type": "code",
      "execution_count": 27,
      "metadata": {},
      "outputs": [
        {
          "name": "stderr",
          "output_type": "stream",
          "text": [
            "C:\\Users\\aigna\\AppData\\Local\\Temp\\ipykernel_24328\\3451614212.py:1: SettingWithCopyWarning: \n",
            "A value is trying to be set on a copy of a slice from a DataFrame.\n",
            "Try using .loc[row_indexer,col_indexer] = value instead\n",
            "\n",
            "See the caveats in the documentation: https://pandas.pydata.org/pandas-docs/stable/user_guide/indexing.html#returning-a-view-versus-a-copy\n",
            "  data_7['dif'] = data_7['TOTAL TES'] - data_7['comprobacion_total']\n"
          ]
        }
      ],
      "source": [
        "data_7['dif'] = data_7['TOTAL TES'] - data_7['comprobacion_total']"
      ]
    },
    {
      "cell_type": "code",
      "execution_count": 28,
      "metadata": {},
      "outputs": [
        {
          "data": {
            "text/plain": [
              "0"
            ]
          },
          "execution_count": 28,
          "metadata": {},
          "output_type": "execute_result"
        }
      ],
      "source": [
        "data_7['dif'].sum()"
      ]
    },
    {
      "attachments": {},
      "cell_type": "markdown",
      "metadata": {},
      "source": [
        "### Conclusión 7\n",
        "\n",
        "Se puede reemplazar los valores faltantes por 0, debido a que corresponden a la sumatoria total de `TOTAL TES`, dado que los na no suman, no afecta si se ponen elementos de valor 0 al reemplazar."
      ]
    },
    {
      "attachments": {},
      "cell_type": "markdown",
      "metadata": {},
      "source": [
        "## Análisis 8:\n",
        "\n",
        "Se analizarán las siguientes variables:\n",
        "\n",
        "* `TIPO ESTABLECIMIENTO HC`\n",
        "* `TIPO ESTABLECIMIENTO TP`\n",
        "* `CLAS_EST ADULTO`\n",
        "* `CLAS_EST JOVEN`\n"
      ]
    },
    {
      "attachments": {},
      "cell_type": "markdown",
      "metadata": {},
      "source": [
        "Se identifica que las dos primeras columnas se relacionan con las dos ultimas, es decir ambos pares suman la totalidad, por ende se sumaran las columnas y se compararán los totales."
      ]
    },
    {
      "cell_type": "code",
      "execution_count": 30,
      "metadata": {},
      "outputs": [],
      "source": [
        "dat_8 = matriculados[['TIPO ESTABLECIMIENTO HC','TIPO ESTABLECIMIENTO TP','CLAS_EST ADULTO','CLAS_EST JOVEN']]"
      ]
    },
    {
      "cell_type": "code",
      "execution_count": 34,
      "metadata": {},
      "outputs": [],
      "source": [
        "list1 = ['TIPO ESTABLECIMIENTO HC','TIPO ESTABLECIMIENTO TP']\n",
        "list2 = ['CLAS_EST ADULTO','CLAS_EST JOVEN']"
      ]
    },
    {
      "cell_type": "code",
      "execution_count": null,
      "metadata": {},
      "outputs": [],
      "source": [
        "dat_8['suma1']= dat_8[list1].sum(axis=1)\n",
        "dat_8['suma2'] = dat_8[list2].sum(axis=1)"
      ]
    },
    {
      "cell_type": "code",
      "execution_count": null,
      "metadata": {},
      "outputs": [],
      "source": [
        "dat_8['dif'] = dat_8['suma1']-dat_8['suma2']"
      ]
    },
    {
      "cell_type": "code",
      "execution_count": 49,
      "metadata": {},
      "outputs": [
        {
          "data": {
            "text/plain": [
              "0.0"
            ]
          },
          "execution_count": 49,
          "metadata": {},
          "output_type": "execute_result"
        }
      ],
      "source": [
        "dat_8['dif'].sum()"
      ]
    },
    {
      "attachments": {},
      "cell_type": "markdown",
      "metadata": {},
      "source": [
        "### Conclusión 8:\n",
        "\n",
        "Se determina que reemplazar los valores faltantes por `nan`, no afectan la integridad de los datos."
      ]
    }
  ],
  "metadata": {
    "colab": {
      "provenance": [],
      "toc_visible": true
    },
    "kernelspec": {
      "display_name": "Python 3",
      "name": "python3"
    },
    "language_info": {
      "codemirror_mode": {
        "name": "ipython",
        "version": 3
      },
      "file_extension": ".py",
      "mimetype": "text/x-python",
      "name": "python",
      "nbconvert_exporter": "python",
      "pygments_lexer": "ipython3",
      "version": "3.9.12"
    }
  },
  "nbformat": 4,
  "nbformat_minor": 0
}
